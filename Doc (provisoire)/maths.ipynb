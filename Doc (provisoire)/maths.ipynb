{
 "cells": [
  {
   "attachments": {},
   "cell_type": "markdown",
   "metadata": {},
   "source": [
    "# Partie maths"
   ]
  },
  {
   "cell_type": "markdown",
   "metadata": {},
   "source": []
  },
  {
   "cell_type": "code",
   "execution_count": 2,
   "metadata": {},
   "outputs": [
    {
     "ename": "ModuleNotFoundError",
     "evalue": "No module named 'donnees'",
     "output_type": "error",
     "traceback": [
      "\u001b[1;31m---------------------------------------------------------------------------\u001b[0m",
      "\u001b[1;31mModuleNotFoundError\u001b[0m                       Traceback (most recent call last)",
      "Cell \u001b[1;32mIn[2], line 1\u001b[0m\n\u001b[1;32m----> 1\u001b[0m \u001b[39mimport\u001b[39;00m \u001b[39mDAHU\u001b[39;00m\u001b[39m.\u001b[39;00m\u001b[39mmaths\u001b[39;00m \u001b[39mas\u001b[39;00m \u001b[39mma\u001b[39;00m\n",
      "File \u001b[1;32mc:\\Users\\segur\\Documents\\Python\\.venv\\lib\\site-packages\\DAHU\\maths.py:8\u001b[0m\n\u001b[0;32m      1\u001b[0m \u001b[39m## DAHU : Partie Mathematiques ##\u001b[39;00m\n\u001b[0;32m      2\u001b[0m \n\u001b[0;32m      3\u001b[0m \u001b[39m## Faire les docstrings : \"\"\"...\"\"\" ##\u001b[39;00m\n\u001b[0;32m      4\u001b[0m \n\u001b[0;32m      5\u001b[0m \u001b[39m## Import des modules essentiels ##\u001b[39;00m\n\u001b[0;32m      7\u001b[0m \u001b[39mimport\u001b[39;00m \u001b[39mgiacpy\u001b[39;00m \u001b[39mas\u001b[39;00m \u001b[39mg\u001b[39;00m\n\u001b[1;32m----> 8\u001b[0m \u001b[39mfrom\u001b[39;00m \u001b[39mdonnees\u001b[39;00m \u001b[39mimport\u001b[39;00m pi\n\u001b[0;32m      9\u001b[0m \u001b[39mimport\u001b[39;00m \u001b[39merreurs\u001b[39;00m \u001b[39mas\u001b[39;00m \u001b[39mer\u001b[39;00m\n\u001b[0;32m     10\u001b[0m \u001b[39mimport\u001b[39;00m \u001b[39mrandom\u001b[39;00m \u001b[39mas\u001b[39;00m \u001b[39mr\u001b[39;00m\n",
      "\u001b[1;31mModuleNotFoundError\u001b[0m: No module named 'donnees'"
     ]
    }
   ],
   "source": [
    "import DAHU.maths as ma"
   ]
  },
  {
   "cell_type": "code",
   "execution_count": null,
   "metadata": {},
   "outputs": [
    {
     "ename": "ModuleNotFoundError",
     "evalue": "No module named 'DAHU12'",
     "output_type": "error",
     "traceback": [
      "\u001b[1;31m---------------------------------------------------------------------------\u001b[0m",
      "\u001b[1;31mModuleNotFoundError\u001b[0m                       Traceback (most recent call last)",
      "Cell \u001b[1;32mIn[2], line 1\u001b[0m\n\u001b[1;32m----> 1\u001b[0m \u001b[39mfrom\u001b[39;00m \u001b[39mDAHU12\u001b[39;00m\u001b[39m.\u001b[39;00m\u001b[39mmaths\u001b[39;00m \u001b[39mimport\u001b[39;00m mel_transvection\n\u001b[0;32m      2\u001b[0m a \u001b[39m=\u001b[39m mel_transvection(\u001b[39m3\u001b[39m,\u001b[39m1\u001b[39m,\u001b[39m-\u001b[39m\u001b[39m4\u001b[39m,\u001b[39m5\u001b[39m)\n\u001b[0;32m      3\u001b[0m a\n",
      "\u001b[1;31mModuleNotFoundError\u001b[0m: No module named 'DAHU12'"
     ]
    }
   ],
   "source": [
    "from DAHU.maths import mel_transvection\n",
    "a = mel_transvection(3,1,-4,5)\n",
    "a"
   ]
  }
 ],
 "metadata": {
  "kernelspec": {
   "display_name": "Python 3",
   "language": "python",
   "name": "python3"
  },
  "language_info": {
   "codemirror_mode": {
    "name": "ipython",
    "version": 3
   },
   "file_extension": ".py",
   "mimetype": "text/x-python",
   "name": "python",
   "nbconvert_exporter": "python",
   "pygments_lexer": "ipython3",
   "version": "3.9.7"
  },
  "orig_nbformat": 4,
  "vscode": {
   "interpreter": {
    "hash": "3af515da0e77a9a6e8f7c55c0022a9b82a3d8933a25397779efe0d29806fa291"
   }
  }
 },
 "nbformat": 4,
 "nbformat_minor": 2
}
