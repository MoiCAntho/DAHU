{
 "cells": [
  {
   "attachments": {},
   "cell_type": "markdown",
   "metadata": {},
   "source": [
    "# DAHU"
   ]
  },
  {
   "attachments": {},
   "cell_type": "markdown",
   "metadata": {},
   "source": [
    "Bienvenue dans la documentation provisoire du pacakage DAHU, vous trouverez ici toutes les réponses aux questions que vous vous posez.\n",
    "Si ce n'est pas le cas écrivez nous.\n",
    "Nous tenons tous de même a préciser que le package est en développement."
   ]
  },
  {
   "attachments": {},
   "cell_type": "markdown",
   "metadata": {},
   "source": [
    "Table des matières :  \n",
    "[Préliminaire](#Préliminaire)  \n",
    "[Mathématiques](#mathématiques)"
   ]
  },
  {
   "attachments": {},
   "cell_type": "markdown",
   "metadata": {},
   "source": [
    "## Préliminaire"
   ]
  },
  {
   "attachments": {},
   "cell_type": "markdown",
   "metadata": {},
   "source": [
    "## Mathématiques"
   ]
  },
  {
   "attachments": {},
   "cell_type": "markdown",
   "metadata": {},
   "source": [
    "Le coeur du module s'articule autour du calcul formel (par l'intermédiaire du CAS GIAC).  \n",
    "Nous commencerons par voir la manipulation et l'utilisation de la classe Expression."
   ]
  },
  {
   "attachments": {},
   "cell_type": "markdown",
   "metadata": {},
   "source": [
    "### Class Expression"
   ]
  },
  {
   "attachments": {},
   "cell_type": "markdown",
   "metadata": {},
   "source": [
    "Nous souhaitons définir l'expression suivante :\n",
    "$$\\cos(5x-3)e^{-x}$$\n",
    "Pour ce faire nous écrivons :"
   ]
  },
  {
   "cell_type": "code",
   "execution_count": 6,
   "metadata": {},
   "outputs": [
    {
     "name": "stdout",
     "output_type": "stream",
     "text": [
      "cos(5*x-3)*exp(-x)\n"
     ]
    }
   ],
   "source": [
    "from DAHU.maths import Expression\n",
    "a = Expression(\"cos(5*x-3)*e^(-x)\",[\"x\"])\n",
    "print(a)"
   ]
  },
  {
   "attachments": {},
   "cell_type": "markdown",
   "metadata": {},
   "source": []
  }
 ],
 "metadata": {
  "kernelspec": {
   "display_name": "Python 3",
   "language": "python",
   "name": "python3"
  },
  "language_info": {
   "codemirror_mode": {
    "name": "ipython",
    "version": 3
   },
   "file_extension": ".py",
   "mimetype": "text/x-python",
   "name": "python",
   "nbconvert_exporter": "python",
   "pygments_lexer": "ipython3",
   "version": "3.9.7"
  },
  "orig_nbformat": 4,
  "vscode": {
   "interpreter": {
    "hash": "3af515da0e77a9a6e8f7c55c0022a9b82a3d8933a25397779efe0d29806fa291"
   }
  }
 },
 "nbformat": 4,
 "nbformat_minor": 2
}
