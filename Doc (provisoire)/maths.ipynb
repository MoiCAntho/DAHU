{
 "cells": [
  {
   "attachments": {},
   "cell_type": "markdown",
   "metadata": {},
   "source": [
    "# DAHU"
   ]
  },
  {
   "attachments": {},
   "cell_type": "markdown",
   "metadata": {},
   "source": [
    "Bienvenue dans la documentation provisoire du pacakage DAHU, vous trouverez ici toutes les réponses aux questions que vous vous posez.\n",
    "Si ce n'est pas le cas écrivez nous.\n",
    "Nous tenons tous de même a préciser que le package est en développement."
   ]
  },
  {
   "attachments": {},
   "cell_type": "markdown",
   "metadata": {},
   "source": [
    "Table des matières :  \n",
    "[Préliminaire](#Préliminaire)  \n",
    "[Mathématiques](#mathématiques)"
   ]
  },
  {
   "attachments": {},
   "cell_type": "markdown",
   "metadata": {},
   "source": [
    "## Préliminaire"
   ]
  },
  {
   "cell_type": "code",
   "execution_count": 2,
   "metadata": {},
   "outputs": [],
   "source": [
    "import DAHU.maths as ma"
   ]
  },
  {
   "attachments": {},
   "cell_type": "markdown",
   "metadata": {},
   "source": [
    "## Mathématiques"
   ]
  },
  {
   "cell_type": "code",
   "execution_count": 3,
   "metadata": {},
   "outputs": [
    {
     "data": {
      "text/plain": [
       "[ 1.0 , 0.0 , 0.0 , 0.0 , 0.0 ]\n",
       "[ 0.0 , 1.0 , 0.0 , -4.0 , 0.0 ]\n",
       "[ 0.0 , 0.0 , 1.0 , 0.0 , 0.0 ]\n",
       "[ 0.0 , 0.0 , 0.0 , 1.0 , 0.0 ]\n",
       "[ 0.0 , 0.0 , 0.0 , 0.0 , 1.0 ]"
      ]
     },
     "execution_count": 3,
     "metadata": {},
     "output_type": "execute_result"
    }
   ],
   "source": [
    "from DAHU.maths import mel_transvection\n",
    "a = mel_transvection(3,1,-4,5)\n",
    "a"
   ]
  }
 ],
 "metadata": {
  "kernelspec": {
   "display_name": "Python 3",
   "language": "python",
   "name": "python3"
  },
  "language_info": {
   "codemirror_mode": {
    "name": "ipython",
    "version": 3
   },
   "file_extension": ".py",
   "mimetype": "text/x-python",
   "name": "python",
   "nbconvert_exporter": "python",
   "pygments_lexer": "ipython3",
   "version": "3.9.7"
  },
  "orig_nbformat": 4,
  "vscode": {
   "interpreter": {
    "hash": "3af515da0e77a9a6e8f7c55c0022a9b82a3d8933a25397779efe0d29806fa291"
   }
  }
 },
 "nbformat": 4,
 "nbformat_minor": 2
}
