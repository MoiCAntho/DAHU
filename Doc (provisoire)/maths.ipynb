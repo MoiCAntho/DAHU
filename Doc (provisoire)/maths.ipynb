{
 "cells": [
  {
   "attachments": {},
   "cell_type": "markdown",
   "metadata": {},
   "source": [
    "# Partie maths"
   ]
  },
  {
   "cell_type": "markdown",
   "metadata": {},
   "source": []
  },
  {
   "cell_type": "code",
   "execution_count": 2,
   "metadata": {},
   "outputs": [],
   "source": [
    "import DAHU.maths as ma"
   ]
  },
  {
   "cell_type": "code",
   "execution_count": 3,
   "metadata": {},
   "outputs": [
    {
     "data": {
      "text/plain": [
       "[ 1.0 , 0.0 , 0.0 , 0.0 , 0.0 ]\n",
       "[ 0.0 , 1.0 , 0.0 , -4.0 , 0.0 ]\n",
       "[ 0.0 , 0.0 , 1.0 , 0.0 , 0.0 ]\n",
       "[ 0.0 , 0.0 , 0.0 , 1.0 , 0.0 ]\n",
       "[ 0.0 , 0.0 , 0.0 , 0.0 , 1.0 ]"
      ]
     },
     "execution_count": 3,
     "metadata": {},
     "output_type": "execute_result"
    }
   ],
   "source": [
    "from DAHU.maths import mel_transvection\n",
    "a = mel_transvection(3,1,-4,5)\n",
    "a"
   ]
  }
 ],
 "metadata": {
  "kernelspec": {
   "display_name": "Python 3",
   "language": "python",
   "name": "python3"
  },
  "language_info": {
   "codemirror_mode": {
    "name": "ipython",
    "version": 3
   },
   "file_extension": ".py",
   "mimetype": "text/x-python",
   "name": "python",
   "nbconvert_exporter": "python",
   "pygments_lexer": "ipython3",
   "version": "3.11.2"
  },
  "orig_nbformat": 4,
  "vscode": {
   "interpreter": {
    "hash": "3af515da0e77a9a6e8f7c55c0022a9b82a3d8933a25397779efe0d29806fa291"
   }
  }
 },
 "nbformat": 4,
 "nbformat_minor": 2
}
